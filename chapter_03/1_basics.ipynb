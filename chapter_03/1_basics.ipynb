{
 "cells": [
  {
   "cell_type": "markdown",
   "id": "73af5dc6",
   "metadata": {},
   "source": [
    "## Building Data Science Applications with FastAPI\n",
    "`François Voron`\n",
    "#### Developing a RESTful API with FastAPI\n",
    "In this chapter, we’ll cover the following main topics:\n",
    "- Creating the first endpoint and running it locally\n",
    "- Handling request parameters• Customizing the response\n",
    "- Structuring a bigger project with multiple routers"
   ]
  },
  {
   "cell_type": "code",
   "execution_count": 2,
   "id": "94e423f6",
   "metadata": {},
   "outputs": [],
   "source": [
    "from fastapi import FastAPI"
   ]
  },
  {
   "cell_type": "code",
   "execution_count": 3,
   "id": "f58c2472",
   "metadata": {},
   "outputs": [],
   "source": [
    "app = FastAPI()"
   ]
  },
  {
   "cell_type": "code",
   "execution_count": 5,
   "id": "353df674",
   "metadata": {},
   "outputs": [],
   "source": [
    "@app.get(\"/\")\n",
    "async def hello_world():\n",
    "    return {\"Hello\": \"World\"}"
   ]
  },
  {
   "cell_type": "code",
   "execution_count": null,
   "id": "ca791e65",
   "metadata": {},
   "outputs": [],
   "source": []
  },
  {
   "cell_type": "code",
   "execution_count": null,
   "id": "78f91033",
   "metadata": {},
   "outputs": [],
   "source": []
  },
  {
   "cell_type": "code",
   "execution_count": null,
   "id": "9ce04cbc",
   "metadata": {},
   "outputs": [],
   "source": []
  }
 ],
 "metadata": {
  "kernelspec": {
   "display_name": ".venv",
   "language": "python",
   "name": "python3"
  },
  "language_info": {
   "codemirror_mode": {
    "name": "ipython",
    "version": 3
   },
   "file_extension": ".py",
   "mimetype": "text/x-python",
   "name": "python",
   "nbconvert_exporter": "python",
   "pygments_lexer": "ipython3",
   "version": "3.13.7"
  }
 },
 "nbformat": 4,
 "nbformat_minor": 5
}
